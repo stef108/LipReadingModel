{
 "cells": [
  {
   "cell_type": "markdown",
   "id": "7a25fba4",
   "metadata": {},
   "source": [
    "# 0. Installing and importing dependencies"
   ]
  },
  {
   "cell_type": "code",
   "execution_count": 1,
   "id": "ccc0df04",
   "metadata": {},
   "outputs": [
    {
     "name": "stdout",
     "output_type": "stream",
     "text": [
      "Package                            Version\n",
      "---------------------------------- --------------------\n",
      "absl-py                            2.0.0\n",
      "alabaster                          0.7.12\n",
      "ale-py                             0.8.1\n",
      "anaconda-client                    1.9.0\n",
      "anaconda-navigator                 2.1.2\n",
      "anaconda-project                   0.10.1\n",
      "anyio                              2.2.0\n",
      "appdirs                            1.4.4\n",
      "argh                               0.26.2\n",
      "argon2-cffi                        20.1.0\n",
      "arrow                              0.13.1\n",
      "asn1crypto                         1.4.0\n",
      "astroid                            2.6.6\n",
      "astropy                            4.3.1\n",
      "astunparse                         1.6.3\n",
      "async-generator                    1.10\n",
      "atomicwrites                       1.4.0\n",
      "attrs                              21.2.0\n",
      "autopep8                           1.5.7\n",
      "AutoROM                            0.6.1\n",
      "AutoROM.accept-rom-license         0.6.1\n",
      "Babel                              2.9.1\n",
      "backcall                           0.2.0\n",
      "backports.functools-lru-cache      1.6.4\n",
      "backports.shutil-get-terminal-size 1.0.0\n",
      "backports.tempfile                 1.0\n",
      "backports.weakref                  1.0.post1\n",
      "bcrypt                             3.2.0\n",
      "beautifulsoup4                     4.10.0\n",
      "binaryornot                        0.4.4\n",
      "bitarray                           2.3.0\n",
      "bkcharts                           0.2\n",
      "black                              19.10b0\n",
      "bleach                             4.0.0\n",
      "bokeh                              2.4.1\n",
      "boto                               2.49.0\n",
      "Bottleneck                         1.3.2\n",
      "box2d-py                           2.3.5\n",
      "brotlipy                           0.7.0\n",
      "cached-property                    1.5.2\n",
      "cachetools                         5.3.2\n",
      "certifi                            2021.10.8\n",
      "cffi                               1.14.6\n",
      "chardet                            4.0.0\n",
      "charset-normalizer                 2.0.4\n",
      "click                              8.0.3\n",
      "cloudpickle                        2.0.0\n",
      "clyent                             1.2.2\n",
      "colorama                           0.4.4\n",
      "comtypes                           1.1.10\n",
      "conda                              4.12.0\n",
      "conda-build                        3.21.6\n",
      "conda-content-trust                0+unknown\n",
      "conda-pack                         0.6.0\n",
      "conda-package-handling             1.7.3\n",
      "conda-repo-cli                     1.0.4\n",
      "conda-token                        0.3.0\n",
      "conda-verify                       3.4.2\n",
      "contextlib2                        0.6.0.post1\n",
      "cookiecutter                       1.7.2\n",
      "cryptography                       3.4.8\n",
      "cycler                             0.10.0\n",
      "Cython                             0.29.24\n",
      "cytoolz                            0.11.0\n",
      "daal4py                            2021.3.0\n",
      "dask                               2021.10.0\n",
      "debugpy                            1.4.1\n",
      "decorator                          5.1.0\n",
      "defusedxml                         0.7.1\n",
      "diff-match-patch                   20200713\n",
      "distributed                        2021.10.0\n",
      "docutils                           0.17.1\n",
      "entrypoints                        0.3\n",
      "et-xmlfile                         1.1.0\n",
      "Farama-Notifications               0.0.4\n",
      "fastcache                          1.1.0\n",
      "filelock                           3.3.1\n",
      "flake8                             3.9.2\n",
      "Flask                              1.1.2\n",
      "flatbuffers                        1.12\n",
      "fonttools                          4.25.0\n",
      "fsspec                             2021.10.1\n",
      "future                             0.18.2\n",
      "gast                               0.4.0\n",
      "gdown                              4.7.1\n",
      "gevent                             21.8.0\n",
      "glob2                              0.7\n",
      "google-auth                        2.23.4\n",
      "google-auth-oauthlib               0.4.6\n",
      "google-pasta                       0.2.0\n",
      "greenlet                           1.1.1\n",
      "grpcio                             1.59.2\n",
      "gym                                0.26.2\n",
      "gym-notices                        0.0.8\n",
      "gymnasium                          0.29.1\n",
      "h5py                               3.2.1\n",
      "HeapDict                           1.0.1\n",
      "html5lib                           1.1\n",
      "idna                               3.2\n",
      "imagecodecs                        2021.8.26\n",
      "imageio                            2.9.0\n",
      "imagesize                          1.2.0\n",
      "importlib-metadata                 6.8.0\n",
      "importlib-resources                6.1.0\n",
      "inflection                         0.5.1\n",
      "iniconfig                          1.1.1\n",
      "intervaltree                       3.1.0\n",
      "ipykernel                          6.4.1\n",
      "ipython                            7.29.0\n",
      "ipython-genutils                   0.2.0\n",
      "ipywidgets                         7.6.5\n",
      "isort                              5.9.3\n",
      "itsdangerous                       2.0.1\n",
      "jdcal                              1.4.1\n",
      "jedi                               0.18.0\n",
      "Jinja2                             2.11.3\n",
      "jinja2-time                        0.2.0\n",
      "joblib                             1.1.0\n",
      "json5                              0.9.6\n",
      "jsonschema                         3.2.0\n",
      "jupyter                            1.0.0\n",
      "jupyter-client                     6.1.12\n",
      "jupyter-console                    6.4.0\n",
      "jupyter-core                       4.8.1\n",
      "jupyter-server                     1.4.1\n",
      "jupyterlab                         3.2.1\n",
      "jupyterlab-pygments                0.1.2\n",
      "jupyterlab-server                  2.8.2\n",
      "jupyterlab-widgets                 1.0.0\n",
      "keras                              2.9.0\n",
      "Keras-Preprocessing                1.1.2\n",
      "keyring                            23.1.0\n",
      "kiwisolver                         1.3.1\n",
      "lazy-object-proxy                  1.6.0\n",
      "libarchive-c                       2.9\n",
      "libclang                           16.0.6\n",
      "llvmlite                           0.37.0\n",
      "locket                             0.2.1\n",
      "lxml                               4.6.3\n",
      "Markdown                           3.5.1\n",
      "markdown-it-py                     3.0.0\n",
      "MarkupSafe                         1.1.1\n",
      "matplotlib                         3.4.3\n",
      "matplotlib-inline                  0.1.2\n",
      "mccabe                             0.6.1\n",
      "mdurl                              0.1.2\n",
      "menuinst                           1.4.18\n",
      "mistune                            0.8.4\n",
      "mkl-fft                            1.3.1\n",
      "mkl-random                         1.2.2\n",
      "mkl-service                        2.4.0\n",
      "ml-dtypes                          0.2.0\n",
      "mock                               4.0.3\n",
      "more-itertools                     8.10.0\n",
      "mpmath                             1.2.1\n",
      "msgpack                            1.0.2\n",
      "multipledispatch                   0.6.0\n",
      "munkres                            1.1.4\n",
      "mypy-extensions                    0.4.3\n",
      "navigator-updater                  0.2.1\n",
      "nbclassic                          0.2.6\n",
      "nbclient                           0.5.3\n",
      "nbconvert                          6.1.0\n",
      "nbformat                           5.1.3\n",
      "nest-asyncio                       1.5.1\n",
      "networkx                           2.6.3\n",
      "nltk                               3.6.5\n",
      "nose                               1.3.7\n",
      "notebook                           6.4.5\n",
      "numba                              0.54.1\n",
      "numexpr                            2.7.3\n",
      "numpy                              1.22.4\n",
      "numpydoc                           1.1.0\n",
      "oauthlib                           3.2.2\n",
      "olefile                            0.46\n",
      "opencv-python                      4.8.1.78\n",
      "openpyxl                           3.0.9\n",
      "opt-einsum                         3.3.0\n",
      "packaging                          21.0\n",
      "pandas                             1.3.4\n",
      "pandocfilters                      1.4.3\n",
      "paramiko                           2.7.2\n",
      "parso                              0.8.2\n",
      "partd                              1.2.0\n",
      "path                               16.0.0\n",
      "pathlib2                           2.3.6\n",
      "pathspec                           0.7.0\n",
      "patsy                              0.5.2\n",
      "pep8                               1.7.1\n",
      "pexpect                            4.8.0\n",
      "pickleshare                        0.7.5\n",
      "Pillow                             8.4.0\n",
      "pip                                21.2.4\n",
      "pkginfo                            1.7.1\n",
      "pluggy                             0.13.1\n",
      "ply                                3.11\n",
      "poyo                               0.5.0\n",
      "prometheus-client                  0.11.0\n",
      "prompt-toolkit                     3.0.20\n",
      "protobuf                           3.19.6\n",
      "psutil                             5.8.0\n",
      "ptyprocess                         0.7.0\n",
      "py                                 1.10.0\n",
      "pyasn1                             0.5.0\n",
      "pyasn1-modules                     0.3.0\n",
      "pycodestyle                        2.7.0\n",
      "pycosat                            0.6.3\n",
      "pycparser                          2.20\n",
      "pycurl                             7.44.1\n",
      "pydocstyle                         6.1.1\n",
      "pyerfa                             2.0.0\n",
      "pyflakes                           2.3.1\n",
      "pygame                             2.1.0"
     ]
    },
    {
     "name": "stderr",
     "output_type": "stream",
     "text": [
      "WARNING: Ignoring invalid distribution -rotobuf (c:\\users\\stefd\\anaconda3\\lib\\site-packages)\n",
      "WARNING: Ignoring invalid distribution -rotobuf (c:\\users\\stefd\\anaconda3\\lib\\site-packages)\n",
      "WARNING: Ignoring invalid distribution -rotobuf (c:\\users\\stefd\\anaconda3\\lib\\site-packages)\n",
      "WARNING: Ignoring invalid distribution -rotobuf (c:\\users\\stefd\\anaconda3\\lib\\site-packages)\n"
     ]
    },
    {
     "name": "stdout",
     "output_type": "stream",
     "text": [
      "\n",
      "Pygments                           2.16.1\n",
      "PyJWT                              2.1.0\n",
      "pylint                             2.9.6\n",
      "pyls-spyder                        0.4.0\n",
      "PyNaCl                             1.4.0\n",
      "pyodbc                             4.0.0-unsupported\n",
      "pyOpenSSL                          21.0.0\n",
      "pyparsing                          3.0.4\n",
      "pyreadline                         2.1\n",
      "pyrsistent                         0.18.0\n",
      "PySocks                            1.7.1\n",
      "pytest                             6.2.4\n",
      "python-dateutil                    2.8.2\n",
      "python-lsp-black                   1.0.0\n",
      "python-lsp-jsonrpc                 1.0.0\n",
      "python-lsp-server                  1.2.4\n",
      "python-slugify                     5.0.2\n",
      "python-version                     0.0.2\n",
      "pytz                               2021.3\n",
      "PyWavelets                         1.1.1\n",
      "pywin32                            228\n",
      "pywin32-ctypes                     0.2.0\n",
      "pywinpty                           0.5.7\n",
      "PyYAML                             6.0\n",
      "pyzmq                              22.2.1\n",
      "QDarkStyle                         3.0.2\n",
      "qstylizer                          0.1.10\n",
      "QtAwesome                          1.0.2\n",
      "qtconsole                          5.1.1\n",
      "QtPy                               1.10.0\n",
      "regex                              2021.8.3\n",
      "requests                           2.26.0\n",
      "requests-oauthlib                  1.3.1\n",
      "rich                               13.6.0\n",
      "rope                               0.19.0\n",
      "rsa                                4.9\n",
      "Rtree                              0.9.7\n",
      "ruamel-yaml-conda                  0.15.100\n",
      "scikit-image                       0.18.3\n",
      "scikit-learn                       0.24.2\n",
      "scikit-learn-intelex               2021.20210714.120553\n",
      "scipy                              1.7.1\n",
      "seaborn                            0.11.2\n",
      "Send2Trash                         1.8.0\n",
      "setuptools                         58.0.4\n",
      "Shimmy                             1.1.0\n",
      "simplegeneric                      0.8.1\n",
      "singledispatch                     3.7.0\n",
      "sip                                4.19.13\n",
      "six                                1.16.0\n",
      "sniffio                            1.2.0\n",
      "snowballstemmer                    2.1.0\n",
      "sortedcollections                  2.1.0\n",
      "sortedcontainers                   2.4.0\n",
      "soupsieve                          2.2.1\n",
      "Sphinx                             4.2.0\n",
      "sphinxcontrib-applehelp            1.0.2\n",
      "sphinxcontrib-devhelp              1.0.2\n",
      "sphinxcontrib-htmlhelp             2.0.0\n",
      "sphinxcontrib-jsmath               1.0.1\n",
      "sphinxcontrib-qthelp               1.0.3\n",
      "sphinxcontrib-serializinghtml      1.1.5\n",
      "sphinxcontrib-websupport           1.2.4\n",
      "spyder                             5.1.5\n",
      "spyder-kernels                     2.1.3\n",
      "SQLAlchemy                         1.4.22\n",
      "stable-baselines3                  2.1.0\n",
      "statsmodels                        0.12.2\n",
      "swig                               4.1.1\n",
      "sympy                              1.9\n",
      "tables                             3.6.1\n",
      "TBB                                0.2\n",
      "tblib                              1.7.0\n",
      "tensorboard                        2.9.1\n",
      "tensorboard-data-server            0.6.1\n",
      "tensorboard-plugin-wit             1.8.1\n",
      "tensorflow                         2.9.1\n",
      "tensorflow-estimator               2.9.0\n",
      "tensorflow-intel                   2.14.0\n",
      "tensorflow-io-gcs-filesystem       0.31.0\n",
      "termcolor                          2.3.0\n",
      "terminado                          0.9.4\n",
      "testpath                           0.5.0\n",
      "text-unidecode                     1.3\n",
      "textdistance                       4.2.1\n",
      "threadpoolctl                      2.2.0\n",
      "three-merge                        0.1.1\n",
      "tifffile                           2021.7.2\n",
      "tinycss                            0.4\n",
      "toml                               0.10.2\n",
      "toolz                              0.11.1\n",
      "torch                              2.1.0+cu118\n",
      "torchaudio                         2.1.0+cu118\n",
      "torchvision                        0.16.0+cu118\n",
      "tornado                            6.1\n",
      "tqdm                               4.62.3\n",
      "traitlets                          5.1.0\n",
      "typed-ast                          1.4.3\n",
      "typing_extensions                  4.8.0\n",
      "ujson                              4.0.2\n",
      "unicodecsv                         0.14.1\n",
      "Unidecode                          1.2.0\n",
      "urllib3                            1.26.7\n",
      "watchdog                           2.1.3\n",
      "wcwidth                            0.2.5\n",
      "webencodings                       0.5.1\n",
      "Werkzeug                           2.0.2\n",
      "wheel                              0.37.0\n",
      "whichcraft                         0.6.1\n",
      "widgetsnbextension                 3.5.1\n",
      "win-inet-pton                      1.1.0\n",
      "win-unicode-console                0.5\n",
      "wincertstore                       0.2\n",
      "wrapt                              1.12.1\n",
      "xlrd                               2.0.1\n",
      "XlsxWriter                         3.0.1\n",
      "xlwings                            0.24.9\n",
      "xlwt                               1.3.0\n",
      "xmltodict                          0.12.0\n",
      "yapf                               0.31.0\n",
      "zict                               2.0.0\n",
      "zipp                               3.6.0\n",
      "zope.event                         4.5.0\n",
      "zope.interface                     5.4.0\n"
     ]
    }
   ],
   "source": [
    "!pip list"
   ]
  },
  {
   "cell_type": "code",
   "execution_count": 2,
   "id": "2f335215",
   "metadata": {},
   "outputs": [],
   "source": [
    "#!pip uninstall tensorflow"
   ]
  },
  {
   "cell_type": "code",
   "execution_count": 3,
   "id": "bb9f5c56",
   "metadata": {},
   "outputs": [],
   "source": [
    "#!pip install opencv-python matplotlib imageio gdown tensorflow==2.9.1"
   ]
  },
  {
   "cell_type": "code",
   "execution_count": 4,
   "id": "805a2069",
   "metadata": {},
   "outputs": [],
   "source": [
    "#!pip install numpy==1.22.4 --user"
   ]
  },
  {
   "cell_type": "code",
   "execution_count": 57,
   "id": "479dcdb3",
   "metadata": {},
   "outputs": [],
   "source": [
    "import os\n",
    "import cv2\n",
    "import tensorflow as tf\n",
    "import numpy as np\n",
    "from typing import List\n",
    "from matplotlib import pyplot as plt\n",
    "import imageio\n",
    "import glob\n",
    "import gdown\n",
    "import sys"
   ]
  },
  {
   "cell_type": "code",
   "execution_count": 58,
   "id": "dee2ab6d",
   "metadata": {},
   "outputs": [
    {
     "name": "stdout",
     "output_type": "stream",
     "text": [
      "3.9.7 (default, Sep 16 2021, 16:59:28) [MSC v.1916 64 bit (AMD64)]\n"
     ]
    }
   ],
   "source": [
    "#listing python version for reproducibility\n",
    "print(sys.version)"
   ]
  },
  {
   "cell_type": "code",
   "execution_count": 6,
   "id": "65f2b27b",
   "metadata": {},
   "outputs": [
    {
     "data": {
      "text/plain": [
       "'C:\\\\Users\\\\stefd\\\\notebook projects'"
      ]
     },
     "execution_count": 6,
     "metadata": {},
     "output_type": "execute_result"
    }
   ],
   "source": [
    "os.getcwd()"
   ]
  },
  {
   "cell_type": "code",
   "execution_count": 7,
   "id": "8b4078e4",
   "metadata": {},
   "outputs": [
    {
     "data": {
      "text/plain": [
       "'2.9.1'"
      ]
     },
     "execution_count": 7,
     "metadata": {},
     "output_type": "execute_result"
    }
   ],
   "source": [
    "#listing tensorflow version for reproducibility\n",
    "tf.__version__"
   ]
  },
  {
   "cell_type": "code",
   "execution_count": 8,
   "id": "1632eb63",
   "metadata": {},
   "outputs": [
    {
     "name": "stdout",
     "output_type": "stream",
     "text": [
      "available gpus: []\n"
     ]
    }
   ],
   "source": [
    "#list the available gpu devices\n",
    "gpu = tf.config.list_physical_devices('GPU')\n",
    "print(\"available gpus:\", gpu)"
   ]
  },
  {
   "cell_type": "markdown",
   "id": "f0efaaf2",
   "metadata": {},
   "source": [
    "# 1. Building function of data loading"
   ]
  },
  {
   "cell_type": "code",
   "execution_count": 9,
   "id": "b7978d2a",
   "metadata": {},
   "outputs": [],
   "source": [
    "#download the dataset of original lipnet as a zip, then extract it in a folder\n",
    "#url = 'https://drive.google.com/uc?id=1YlvpDLix3S-U8fd-gqRwPcWXAXm8JwjL'\n",
    "#output = 'dataset.zip'\n",
    "#gdown.download(url, output, quiet=False)\n",
    "#gdown.extractall('dataset.zip')"
   ]
  },
  {
   "cell_type": "code",
   "execution_count": 10,
   "id": "74e4c8e5",
   "metadata": {},
   "outputs": [],
   "source": [
    "def load_video(path: str) -> List[float]:\n",
    "    # Open the video file specified by the path\n",
    "    cap = cv2.VideoCapture(path)\n",
    "    \n",
    "    # Initialize a list to store preprocessed video frames\n",
    "    frames = []\n",
    "    \n",
    "    # Iterate through the frames in the video\n",
    "    for _ in range(int(cap.get(cv2.CAP_PROP_FRAME_COUNT))): \n",
    "        ret, frame = cap.read()\n",
    "        \n",
    "        # Convert the frame to grayscale\n",
    "        frame = tf.image.rgb_to_grayscale(frame)\n",
    "        \n",
    "        # Crop the frame to a specific region of interest (ROI)\n",
    "        roi = frame[180:236, 80:240, :]\n",
    "        \n",
    "        # Calculate the mean and standard deviation of the ROI\n",
    "        mean = tf.math.reduce_mean(roi)\n",
    "        std = tf.math.reduce_std(tf.cast(roi, tf.float32))\n",
    "        \n",
    "        # Normalize the ROI by subtracting the mean and dividing by the standard deviation\n",
    "        normalized_frame = tf.cast((roi - mean), tf.float32) / std\n",
    "        \n",
    "        frames.append(normalized_frame)\n",
    "    \n",
    "    # Release the video capture object\n",
    "    cap.release()\n",
    "    \n",
    "    # Return the preprocessed and normalized frames as a list of floating-point numbers\n",
    "    return frames"
   ]
  },
  {
   "cell_type": "code",
   "execution_count": 11,
   "id": "54a1ac9b",
   "metadata": {},
   "outputs": [],
   "source": [
    "# Create a list of characters representing the vocabulary.\n",
    "vocab = [x for x in \"abcdefghijklmnopqrstuvwxyz'?!123456789 \"]"
   ]
  },
  {
   "cell_type": "code",
   "execution_count": 12,
   "id": "dfd94946",
   "metadata": {},
   "outputs": [
    {
     "name": "stdout",
     "output_type": "stream",
     "text": [
      "The vocabulary is: ['', 'a', 'b', 'c', 'd', 'e', 'f', 'g', 'h', 'i', 'j', 'k', 'l', 'm', 'n', 'o', 'p', 'q', 'r', 's', 't', 'u', 'v', 'w', 'x', 'y', 'z', \"'\", '?', '!', '1', '2', '3', '4', '5', '6', '7', '8', '9', ' '] (size = 40)\n"
     ]
    }
   ],
   "source": [
    "#this is the solution of the original lipnet paper \n",
    "# Define a StringLookup layer to map characters to numerical values\n",
    "char_to_num = tf.keras.layers.StringLookup(vocabulary=vocab, oov_token=\"\")\n",
    "\n",
    "# Define another StringLookup layer to map numerical values back to characters\n",
    "num_to_char = tf.keras.layers.StringLookup(\n",
    "    vocabulary=char_to_num.get_vocabulary(), oov_token=\"\", invert=True\n",
    ")\n",
    "\n",
    "# Print information about the vocabulary and its size\n",
    "vocabulary = char_to_num.get_vocabulary()\n",
    "vocabulary_size = char_to_num.vocabulary_size()\n",
    "print(f\"The vocabulary is: {vocabulary} (size = {vocabulary_size})\")"
   ]
  },
  {
   "cell_type": "code",
   "execution_count": 13,
   "id": "02e83169",
   "metadata": {},
   "outputs": [
    {
     "data": {
      "text/plain": [
       "['',\n",
       " 'a',\n",
       " 'b',\n",
       " 'c',\n",
       " 'd',\n",
       " 'e',\n",
       " 'f',\n",
       " 'g',\n",
       " 'h',\n",
       " 'i',\n",
       " 'j',\n",
       " 'k',\n",
       " 'l',\n",
       " 'm',\n",
       " 'n',\n",
       " 'o',\n",
       " 'p',\n",
       " 'q',\n",
       " 'r',\n",
       " 's',\n",
       " 't',\n",
       " 'u',\n",
       " 'v',\n",
       " 'w',\n",
       " 'x',\n",
       " 'y',\n",
       " 'z',\n",
       " \"'\",\n",
       " '?',\n",
       " '!',\n",
       " '1',\n",
       " '2',\n",
       " '3',\n",
       " '4',\n",
       " '5',\n",
       " '6',\n",
       " '7',\n",
       " '8',\n",
       " '9',\n",
       " ' ']"
      ]
     },
     "execution_count": 13,
     "metadata": {},
     "output_type": "execute_result"
    }
   ],
   "source": [
    "char_to_num.get_vocabulary()"
   ]
  },
  {
   "cell_type": "code",
   "execution_count": 14,
   "id": "e6862a7e",
   "metadata": {},
   "outputs": [
    {
     "data": {
      "text/plain": [
       "<tf.Tensor: shape=(4,), dtype=int64, numpy=array([19, 20,  5,  6], dtype=int64)>"
      ]
     },
     "execution_count": 14,
     "metadata": {},
     "output_type": "execute_result"
    }
   ],
   "source": [
    "char_to_num(['s','t','e','f'])"
   ]
  },
  {
   "cell_type": "code",
   "execution_count": 15,
   "id": "002dbbdb",
   "metadata": {},
   "outputs": [
    {
     "data": {
      "text/plain": [
       "<tf.Tensor: shape=(4,), dtype=string, numpy=array([b's', b't', b'e', b'f'], dtype=object)>"
      ]
     },
     "execution_count": 15,
     "metadata": {},
     "output_type": "execute_result"
    }
   ],
   "source": [
    "num_to_char([19,  20,  5, 6])"
   ]
  },
  {
   "cell_type": "code",
   "execution_count": 16,
   "id": "b4eec9cf",
   "metadata": {},
   "outputs": [],
   "source": [
    "#loading alignments from path\n",
    "def load_alignments(path: str) -> List[str]:\n",
    "    with open(path, 'r') as f:\n",
    "        lines = f.readlines()\n",
    "\n",
    "#running a for loop to remove the silence from dataset.\n",
    "    tokens = []\n",
    "    for line in lines:\n",
    "        line = line.split()\n",
    "        if line[2] != 'sil':\n",
    "            tokens.extend([' ', line[2]])\n",
    "            \n",
    "            # Convert the filtered tokens to numerical values using 'char_to_num' and reshape the data. Exclude the first element.\n",
    "            return char_to_num(tf.reshape(tf.strings.unicode_split(tokens, input_encoding='UTF-8'), (-1)))[1:]\n"
   ]
  },
  {
   "cell_type": "code",
   "execution_count": 17,
   "id": "f667590b",
   "metadata": {},
   "outputs": [],
   "source": [
    "# Load data from the specified file path\n",
    "def load_data(path: str):\n",
    "    # Decode the 'path' from bytes to a string\n",
    "    path = bytes.decode(path.numpy())\n",
    "    \n",
    "    # Extract the file name from the path\n",
    "    # Note: The file path is expected to have either '/' or '\\' as a separator\n",
    "    file_name = path.split('\\\\')[-1].split('.')[0]#path.split('/')[-1].split('.')[0]\n",
    "    print(file_name)\n",
    "    \n",
    "    # Construct paths for video and alignment files based on the file name\n",
    "    video_path = os.path.join('data', 's1', f'{file_name}.mpg')\n",
    "    alignment_path = os.path.join('data', 'alignments', 's1', f'{file_name}.align')\n",
    "    \n",
    "    print(alignment_path)\n",
    "    \n",
    "    # Load video frames from the video file path\n",
    "    frames = load_video(video_path)\n",
    "    \n",
    "    # Load alignments data from the alignment file path\n",
    "    alignments = load_alignments(alignment_path)\n",
    "    \n",
    "    # Return the loaded video frames and alignments\n",
    "    return frames, alignments\n"
   ]
  },
  {
   "cell_type": "code",
   "execution_count": 18,
   "id": "acc512d9",
   "metadata": {},
   "outputs": [],
   "source": [
    "test_path = '.\\\\data\\\\alignments\\\\s1\\\\bbal6n.mpg'"
   ]
  },
  {
   "cell_type": "code",
   "execution_count": 19,
   "id": "ab508c01",
   "metadata": {
    "scrolled": true
   },
   "outputs": [
    {
     "name": "stdout",
     "output_type": "stream",
     "text": [
      "bbal6n\n",
      "data\\alignments\\s1\\bbal6n.align\n"
     ]
    }
   ],
   "source": [
    "# Load data from the specified 'test_path' using the 'load_data' function and converting it to tensor\n",
    "frames, alignments = load_data(tf.convert_to_tensor(test_path))"
   ]
  },
  {
   "cell_type": "code",
   "execution_count": 20,
   "id": "ac07da84",
   "metadata": {},
   "outputs": [
    {
     "data": {
      "text/plain": [
       "<matplotlib.image.AxesImage at 0x2023b23f640>"
      ]
     },
     "execution_count": 20,
     "metadata": {},
     "output_type": "execute_result"
    },
    {
     "data": {
      "image/png": "[encoded data removed]",
      "text/plain": [
       "<Figure size 432x288 with 1 Axes>"
      ]
     },
     "metadata": {
      "needs_background": "light"
     },
     "output_type": "display_data"
    }
   ],
   "source": [
    "plt.imshow(frames[22])"
   ]
  },
  {
   "cell_type": "code",
   "execution_count": 21,
   "id": "d4788b5b",
   "metadata": {},
   "outputs": [
    {
     "name": "stdout",
     "output_type": "stream",
     "text": [
      "['b', 'i', 'n']\n"
     ]
    }
   ],
   "source": [
    "print([bytes.decode(x) for x in num_to_char(alignments.numpy()).numpy()])"
   ]
  },
  {
   "cell_type": "code",
   "execution_count": 22,
   "id": "8584c69c",
   "metadata": {},
   "outputs": [
    {
     "data": {
      "text/plain": [
       "<tf.Tensor: shape=(), dtype=string, numpy=b'bin'>"
      ]
     },
     "execution_count": 22,
     "metadata": {},
     "output_type": "execute_result"
    }
   ],
   "source": [
    "# Convert numerical alignments to strings and join them into a single string\n",
    "tf.strings.reduce_join([bytes.decode(x) for x in num_to_char(alignments.numpy()).numpy()])"
   ]
  },
  {
   "cell_type": "code",
   "execution_count": 23,
   "id": "bceedfb4",
   "metadata": {},
   "outputs": [],
   "source": [
    "# Load and process data from the specified 'path' using 'load_data' and return the result\n",
    "def mappable_function(path:str) ->List[str]:\n",
    "    result = tf.py_function(load_data, [path], (tf.float32, tf.int64))\n",
    "    return result"
   ]
  },
  {
   "cell_type": "code",
   "execution_count": 24,
   "id": "5287bb86",
   "metadata": {},
   "outputs": [
    {
     "name": "stdout",
     "output_type": "stream",
     "text": [
      "Number of MPG files: 1000\n"
     ]
    }
   ],
   "source": [
    "mpg_directory = '.\\\\data\\\\s1\\\\'\n",
    "\n",
    "# List all MPG files in the directory\n",
    "mpg_files = glob.glob(os.path.join(mpg_directory, '*.mpg'))\n",
    "\n",
    "# Print the number of MPG files\n",
    "num_mpg_files = len(mpg_files)\n",
    "print(f'Number of MPG files: {num_mpg_files}')\n"
   ]
  },
  {
   "cell_type": "code",
   "execution_count": 25,
   "id": "efd20a56",
   "metadata": {},
   "outputs": [
    {
     "name": "stdout",
     "output_type": "stream",
     "text": [
      "Number of .align files: 1000\n"
     ]
    }
   ],
   "source": [
    "# Directory containing .align files\n",
    "align_directory = '.\\\\data\\\\alignments\\\\s1\\\\'\n",
    "\n",
    "# List all .align files in the directory\n",
    "align_files = glob.glob(os.path.join(align_directory, '*.align'))\n",
    "\n",
    "# Print the number of .align files\n",
    "num_align_files = len(align_files)\n",
    "print(f'Number of .align files: {num_align_files}')"
   ]
  },
  {
   "cell_type": "markdown",
   "id": "d59175e5",
   "metadata": {},
   "source": [
    "# 2 Creating a data pipeline"
   ]
  },
  {
   "cell_type": "code",
   "execution_count": 26,
   "id": "cb563d41",
   "metadata": {},
   "outputs": [],
   "source": [
    "#shuffle data, allow it to be mapped, prefetched and padded in sets of 2\n",
    "#*i use small batches for training stability and efficiency\n",
    "data = tf.data.Dataset.list_files('.\\\\data\\\\s1\\\\*.mpg')\n",
    "data = data.shuffle(500)\n",
    "data = data.map(mappable_function)\n",
    "data = data.padded_batch(2, padded_shapes=([75,None,None,None],[40]))\n",
    "data = data.prefetch(tf.data.AUTOTUNE)"
   ]
  },
  {
   "cell_type": "code",
   "execution_count": 27,
   "id": "7e4640f0",
   "metadata": {},
   "outputs": [
    {
     "name": "stdout",
     "output_type": "stream",
     "text": [
      "Total samples: 500\n"
     ]
    }
   ],
   "source": [
    "total_samples = tf.data.experimental.cardinality(data).numpy()\n",
    "\n",
    "print(\"Total samples:\", total_samples)"
   ]
  },
  {
   "cell_type": "code",
   "execution_count": 28,
   "id": "02626a4b",
   "metadata": {},
   "outputs": [],
   "source": [
    "total_samples = 500\n",
    "train_ratio = 0.8\n",
    "\n",
    "# Calculate the number of samples for training and testing\n",
    "train_samples = int(train_ratio * total_samples)\n",
    "test_samples = total_samples - train_samples\n",
    "\n",
    "\n",
    "# For training data\n",
    "train = data.take(train_samples)\n",
    "\n",
    "# For testing data\n",
    "test = data.skip(train_samples).take(test_samples)"
   ]
  },
  {
   "cell_type": "code",
   "execution_count": 29,
   "id": "61c45f28",
   "metadata": {},
   "outputs": [
    {
     "name": "stdout",
     "output_type": "stream",
     "text": [
      "pric3s\n",
      "data\\alignments\\s1\\pric3s.align\n",
      "bbal9a\n",
      "data\\alignments\\s1\\bbal9a.align\n",
      "prii9a\n",
      "data\\alignments\\s1\\prii9a.align\n"
     ]
    }
   ],
   "source": [
    "frames, alignments = data.as_numpy_iterator().next()"
   ]
  },
  {
   "cell_type": "code",
   "execution_count": 30,
   "id": "2b730789",
   "metadata": {},
   "outputs": [
    {
     "data": {
      "text/plain": [
       "2"
      ]
     },
     "execution_count": 30,
     "metadata": {},
     "output_type": "execute_result"
    }
   ],
   "source": [
    "len(frames)"
   ]
  },
  {
   "cell_type": "code",
   "execution_count": 31,
   "id": "ef9a9e89",
   "metadata": {},
   "outputs": [
    {
     "data": {
      "text/plain": [
       "array([[16, 12,  1,  3,  5,  0,  0,  0,  0,  0,  0,  0,  0,  0,  0,  0,\n",
       "         0,  0,  0,  0,  0,  0,  0,  0,  0,  0,  0,  0,  0,  0,  0,  0,\n",
       "         0,  0,  0,  0,  0,  0,  0,  0],\n",
       "       [ 2,  9, 14,  0,  0,  0,  0,  0,  0,  0,  0,  0,  0,  0,  0,  0,\n",
       "         0,  0,  0,  0,  0,  0,  0,  0,  0,  0,  0,  0,  0,  0,  0,  0,\n",
       "         0,  0,  0,  0,  0,  0,  0,  0]], dtype=int64)"
      ]
     },
     "execution_count": 31,
     "metadata": {},
     "output_type": "execute_result"
    }
   ],
   "source": [
    "alignments"
   ]
  },
  {
   "cell_type": "code",
   "execution_count": 32,
   "id": "853d7bc5",
   "metadata": {},
   "outputs": [],
   "source": [
    "test = data.as_numpy_iterator()"
   ]
  },
  {
   "cell_type": "code",
   "execution_count": 33,
   "id": "36946d36",
   "metadata": {},
   "outputs": [
    {
     "name": "stdout",
     "output_type": "stream",
     "text": [
      "lgwt2p\n",
      "data\\alignments\\s1\\lgwt2p.align\n",
      "swbi7a\n",
      "data\\alignments\\s1\\swbi7a.align\n"
     ]
    },
    {
     "data": {
      "text/plain": [
       "array([[[[[ 1.6405776 ],\n",
       "          [ 1.6405776 ],\n",
       "          [ 1.5995631 ],\n",
       "          ...,\n",
       "          [ 0.        ],\n",
       "          [ 0.        ],\n",
       "          [ 0.        ]],\n",
       "\n",
       "         [[ 1.5995631 ],\n",
       "          [ 1.5995631 ],\n",
       "          [ 1.5995631 ],\n",
       "          ...,\n",
       "          [ 0.        ],\n",
       "          [ 0.        ],\n",
       "          [ 0.        ]],\n",
       "\n",
       "         [[ 1.5995631 ],\n",
       "          [ 1.5995631 ],\n",
       "          [ 1.5995631 ],\n",
       "          ...,\n",
       "          [ 0.        ],\n",
       "          [ 0.        ],\n",
       "          [ 0.        ]],\n",
       "\n",
       "         ...,\n",
       "\n",
       "         [[ 0.94333214],\n",
       "          [ 0.94333214],\n",
       "          [ 0.94333214],\n",
       "          ...,\n",
       "          [10.089552  ],\n",
       "          [10.089552  ],\n",
       "          [10.089552  ]],\n",
       "\n",
       "         [[ 0.94333214],\n",
       "          [ 0.94333214],\n",
       "          [ 0.94333214],\n",
       "          ...,\n",
       "          [10.089552  ],\n",
       "          [10.089552  ],\n",
       "          [10.089552  ]],\n",
       "\n",
       "         [[ 0.94333214],\n",
       "          [ 0.94333214],\n",
       "          [ 0.94333214],\n",
       "          ...,\n",
       "          [10.089552  ],\n",
       "          [10.048538  ],\n",
       "          [10.048538  ]]],\n",
       "\n",
       "\n",
       "        [[[ 1.5962827 ],\n",
       "          [ 1.5962827 ],\n",
       "          [ 1.514422  ],\n",
       "          ...,\n",
       "          [ 0.        ],\n",
       "          [10.437233  ],\n",
       "          [10.437233  ]],\n",
       "\n",
       "         [[ 1.5962827 ],\n",
       "          [ 1.5553523 ],\n",
       "          [ 1.514422  ],\n",
       "          ...,\n",
       "          [10.437233  ],\n",
       "          [10.396302  ],\n",
       "          [10.396302  ]],\n",
       "\n",
       "         [[ 1.5962827 ],\n",
       "          [ 1.5962827 ],\n",
       "          [ 1.514422  ],\n",
       "          ...,\n",
       "          [10.437233  ],\n",
       "          [10.396302  ],\n",
       "          [10.396302  ]],\n",
       "\n",
       "         ...,\n",
       "\n",
       "         [[ 1.0232581 ],\n",
       "          [ 1.0232581 ],\n",
       "          [ 0.9413975 ],\n",
       "          ...,\n",
       "          [10.109791  ],\n",
       "          [10.109791  ],\n",
       "          [10.109791  ]],\n",
       "\n",
       "         [[ 1.0232581 ],\n",
       "          [ 1.0232581 ],\n",
       "          [ 0.9413975 ],\n",
       "          ...,\n",
       "          [10.06886   ],\n",
       "          [10.06886   ],\n",
       "          [10.06886   ]],\n",
       "\n",
       "         [[ 1.0232581 ],\n",
       "          [ 1.0232581 ],\n",
       "          [ 0.9413975 ],\n",
       "          ...,\n",
       "          [10.06886   ],\n",
       "          [10.027929  ],\n",
       "          [10.027929  ]]],\n",
       "\n",
       "\n",
       "        [[[ 1.5887825 ],\n",
       "          [ 1.5887825 ],\n",
       "          [ 1.5480444 ],\n",
       "          ...,\n",
       "          [10.388193  ],\n",
       "          [10.388193  ],\n",
       "          [10.388193  ]],\n",
       "\n",
       "         [[ 1.5887825 ],\n",
       "          [ 1.5480444 ],\n",
       "          [ 1.5480444 ],\n",
       "          ...,\n",
       "          [10.388193  ],\n",
       "          [10.347455  ],\n",
       "          [10.347455  ]],\n",
       "\n",
       "         [[ 1.5887825 ],\n",
       "          [ 1.5887825 ],\n",
       "          [ 1.5480444 ],\n",
       "          ...,\n",
       "          [10.388193  ],\n",
       "          [10.347455  ],\n",
       "          [10.347455  ]],\n",
       "\n",
       "         ...,\n",
       "\n",
       "         [[ 1.0184504 ],\n",
       "          [ 1.0184504 ],\n",
       "          [ 1.0184504 ],\n",
       "          ...,\n",
       "          [10.021551  ],\n",
       "          [10.021551  ],\n",
       "          [ 9.980813  ]],\n",
       "\n",
       "         [[ 1.0184504 ],\n",
       "          [ 1.0184504 ],\n",
       "          [ 1.0184504 ],\n",
       "          ...,\n",
       "          [ 9.980813  ],\n",
       "          [ 9.980813  ],\n",
       "          [ 9.940075  ]],\n",
       "\n",
       "         [[ 1.0184504 ],\n",
       "          [ 1.0184504 ],\n",
       "          [ 1.0184504 ],\n",
       "          ...,\n",
       "          [ 9.940075  ],\n",
       "          [ 9.940075  ],\n",
       "          [ 9.940075  ]]],\n",
       "\n",
       "\n",
       "        ...,\n",
       "\n",
       "\n",
       "        [[[ 1.6349669 ],\n",
       "          [ 1.6349669 ],\n",
       "          [ 1.6768891 ],\n",
       "          ...,\n",
       "          [ 0.        ],\n",
       "          [ 0.        ],\n",
       "          [ 0.        ]],\n",
       "\n",
       "         [[ 1.6349669 ],\n",
       "          [ 1.6349669 ],\n",
       "          [ 1.6768891 ],\n",
       "          ...,\n",
       "          [ 0.        ],\n",
       "          [ 0.        ],\n",
       "          [ 0.        ]],\n",
       "\n",
       "         [[ 1.6349669 ],\n",
       "          [ 1.6349669 ],\n",
       "          [ 1.6768891 ],\n",
       "          ...,\n",
       "          [ 0.        ],\n",
       "          [ 0.        ],\n",
       "          [ 0.        ]],\n",
       "\n",
       "         ...,\n",
       "\n",
       "         [[ 0.92228895],\n",
       "          [ 0.92228895],\n",
       "          [ 0.92228895],\n",
       "          ...,\n",
       "          [10.270946  ],\n",
       "          [10.229023  ],\n",
       "          [10.229023  ]],\n",
       "\n",
       "         [[ 0.92228895],\n",
       "          [ 0.92228895],\n",
       "          [ 0.92228895],\n",
       "          ...,\n",
       "          [10.270946  ],\n",
       "          [10.229023  ],\n",
       "          [10.229023  ]],\n",
       "\n",
       "         [[ 0.92228895],\n",
       "          [ 0.92228895],\n",
       "          [ 0.92228895],\n",
       "          ...,\n",
       "          [10.270946  ],\n",
       "          [10.229023  ],\n",
       "          [10.229023  ]]],\n",
       "\n",
       "\n",
       "        [[[ 1.6301932 ],\n",
       "          [ 1.6301932 ],\n",
       "          [ 1.6301932 ],\n",
       "          ...,\n",
       "          [ 0.        ],\n",
       "          [ 0.        ],\n",
       "          [ 0.        ]],\n",
       "\n",
       "         [[ 1.6301932 ],\n",
       "          [ 1.6301932 ],\n",
       "          [ 1.6301932 ],\n",
       "          ...,\n",
       "          [ 0.        ],\n",
       "          [ 0.        ],\n",
       "          [ 0.        ]],\n",
       "\n",
       "         [[ 1.6301932 ],\n",
       "          [ 1.6301932 ],\n",
       "          [ 1.6301932 ],\n",
       "          ...,\n",
       "          [ 0.        ],\n",
       "          [ 0.        ],\n",
       "          [ 0.        ]],\n",
       "\n",
       "         ...,\n",
       "\n",
       "         [[ 0.9195962 ],\n",
       "          [ 0.9195962 ],\n",
       "          [ 0.9195962 ],\n",
       "          ...,\n",
       "          [10.282758  ],\n",
       "          [10.240957  ],\n",
       "          [10.240957  ]],\n",
       "\n",
       "         [[ 0.9195962 ],\n",
       "          [ 0.9195962 ],\n",
       "          [ 0.9195962 ],\n",
       "          ...,\n",
       "          [10.240957  ],\n",
       "          [10.199158  ],\n",
       "          [10.199158  ]],\n",
       "\n",
       "         [[ 0.9195962 ],\n",
       "          [ 0.9195962 ],\n",
       "          [ 0.9195962 ],\n",
       "          ...,\n",
       "          [10.240957  ],\n",
       "          [10.199158  ],\n",
       "          [10.199158  ]]],\n",
       "\n",
       "\n",
       "        [[[ 1.6270179 ],\n",
       "          [ 1.6270179 ],\n",
       "          [ 1.6270179 ],\n",
       "          ...,\n",
       "          [ 0.        ],\n",
       "          [ 0.        ],\n",
       "          [ 0.        ]],\n",
       "\n",
       "         [[ 1.6270179 ],\n",
       "          [ 1.6270179 ],\n",
       "          [ 1.6270179 ],\n",
       "          ...,\n",
       "          [ 0.        ],\n",
       "          [ 0.        ],\n",
       "          [ 0.        ]],\n",
       "\n",
       "         [[ 1.6270179 ],\n",
       "          [ 1.6270179 ],\n",
       "          [ 1.6270179 ],\n",
       "          ...,\n",
       "          [ 0.        ],\n",
       "          [ 0.        ],\n",
       "          [ 0.        ]],\n",
       "\n",
       "         ...,\n",
       "\n",
       "         [[ 1.0429602 ],\n",
       "          [ 1.0429602 ],\n",
       "          [ 1.0012418 ],\n",
       "          ...,\n",
       "          [10.304447  ],\n",
       "          [10.262729  ],\n",
       "          [10.262729  ]],\n",
       "\n",
       "         [[ 1.0429602 ],\n",
       "          [ 1.0429602 ],\n",
       "          [ 1.0012418 ],\n",
       "          ...,\n",
       "          [10.262729  ],\n",
       "          [10.262729  ],\n",
       "          [10.262729  ]],\n",
       "\n",
       "         [[ 0.9595234 ],\n",
       "          [ 0.9595234 ],\n",
       "          [ 0.9595234 ],\n",
       "          ...,\n",
       "          [10.262729  ],\n",
       "          [10.22101   ],\n",
       "          [10.22101   ]]]],\n",
       "\n",
       "\n",
       "\n",
       "       [[[[ 1.7028588 ],\n",
       "          [ 1.623656  ],\n",
       "          [ 1.5840547 ],\n",
       "          ...,\n",
       "          [ 0.2376082 ],\n",
       "          [ 0.2376082 ],\n",
       "          [ 0.2376082 ]],\n",
       "\n",
       "         [[ 1.7028588 ],\n",
       "          [ 1.5840547 ],\n",
       "          [ 1.5444533 ],\n",
       "          ...,\n",
       "          [ 0.2376082 ],\n",
       "          [ 0.2376082 ],\n",
       "          [ 0.2376082 ]],\n",
       "\n",
       "         [[ 1.7028588 ],\n",
       "          [ 1.5840547 ],\n",
       "          [ 1.623656  ],\n",
       "          ...,\n",
       "          [ 0.2376082 ],\n",
       "          [ 0.2376082 ],\n",
       "          [ 0.2376082 ]],\n",
       "\n",
       "         ...,\n",
       "\n",
       "         [[ 0.99003416],\n",
       "          [ 0.99003416],\n",
       "          [ 0.99003416],\n",
       "          ...,\n",
       "          [ 9.821139  ],\n",
       "          [ 9.821139  ],\n",
       "          [ 9.821139  ]],\n",
       "\n",
       "         [[ 0.99003416],\n",
       "          [ 0.99003416],\n",
       "          [ 0.99003416],\n",
       "          ...,\n",
       "          [ 9.821139  ],\n",
       "          [ 9.821139  ],\n",
       "          [ 9.821139  ]],\n",
       "\n",
       "         [[ 0.99003416],\n",
       "          [ 0.99003416],\n",
       "          [ 0.99003416],\n",
       "          ...,\n",
       "          [ 9.821139  ],\n",
       "          [ 9.821139  ],\n",
       "          [ 9.821139  ]]],\n",
       "\n",
       "\n",
       "        [[[ 1.7740536 ],\n",
       "          [ 1.7346302 ],\n",
       "          [ 1.6557834 ],\n",
       "          ...,\n",
       "          [ 0.15769365],\n",
       "          [ 0.15769365],\n",
       "          [ 0.15769365]],\n",
       "\n",
       "         [[ 1.6952068 ],\n",
       "          [ 1.6557834 ],\n",
       "          [ 1.5769366 ],\n",
       "          ...,\n",
       "          [ 0.15769365],\n",
       "          [ 0.15769365],\n",
       "          [ 0.15769365]],\n",
       "\n",
       "         [[ 1.61636   ],\n",
       "          [ 1.61636   ],\n",
       "          [ 1.5375131 ],\n",
       "          ...,\n",
       "          [ 0.11827024],\n",
       "          [ 0.11827024],\n",
       "          [ 0.11827024]],\n",
       "\n",
       "         ...,\n",
       "\n",
       "         [[ 0.98558533],\n",
       "          [ 0.98558533],\n",
       "          [ 0.98558533],\n",
       "          ...,\n",
       "          [ 9.777007  ],\n",
       "          [ 9.777007  ],\n",
       "          [ 9.777007  ]],\n",
       "\n",
       "         [[ 0.98558533],\n",
       "          [ 0.98558533],\n",
       "          [ 0.98558533],\n",
       "          ...,\n",
       "          [ 9.737583  ],\n",
       "          [ 9.737583  ],\n",
       "          [ 9.737583  ]],\n",
       "\n",
       "         [[ 0.98558533],\n",
       "          [ 0.98558533],\n",
       "          [ 0.98558533],\n",
       "          ...,\n",
       "          [ 9.737583  ],\n",
       "          [ 9.737583  ],\n",
       "          [ 9.737583  ]]],\n",
       "\n",
       "\n",
       "        [[[ 1.689093  ],\n",
       "          [ 1.689093  ],\n",
       "          [ 1.689093  ],\n",
       "          ...,\n",
       "          [ 0.15712494],\n",
       "          [ 0.15712494],\n",
       "          [ 0.15712494]],\n",
       "\n",
       "         [[ 1.6498119 ],\n",
       "          [ 1.6498119 ],\n",
       "          [ 1.6105306 ],\n",
       "          ...,\n",
       "          [ 0.15712494],\n",
       "          [ 0.15712494],\n",
       "          [ 0.15712494]],\n",
       "\n",
       "         [[ 1.6105306 ],\n",
       "          [ 1.6498119 ],\n",
       "          [ 1.5712494 ],\n",
       "          ...,\n",
       "          [ 0.2356874 ],\n",
       "          [ 0.2356874 ],\n",
       "          [ 0.2356874 ]],\n",
       "\n",
       "         ...,\n",
       "\n",
       "         [[ 1.0605934 ],\n",
       "          [ 1.0605934 ],\n",
       "          [ 1.0213121 ],\n",
       "          ...,\n",
       "          [ 9.741746  ],\n",
       "          [ 9.741746  ],\n",
       "          [ 9.741746  ]],\n",
       "\n",
       "         [[ 1.0605934 ],\n",
       "          [ 1.0605934 ],\n",
       "          [ 1.0213121 ],\n",
       "          ...,\n",
       "          [ 9.702465  ],\n",
       "          [ 9.702465  ],\n",
       "          [ 9.702465  ]],\n",
       "\n",
       "         [[ 1.0605934 ],\n",
       "          [ 1.0605934 ],\n",
       "          [ 1.0213121 ],\n",
       "          ...,\n",
       "          [ 9.702465  ],\n",
       "          [ 9.702465  ],\n",
       "          [ 9.702465  ]]],\n",
       "\n",
       "\n",
       "        ...,\n",
       "\n",
       "\n",
       "        [[[ 1.6657522 ],\n",
       "          [ 1.5864307 ],\n",
       "          [ 1.2691445 ],\n",
       "          ...,\n",
       "          [ 0.15864307],\n",
       "          [ 0.1189823 ],\n",
       "          [ 0.1189823 ]],\n",
       "\n",
       "         [[ 1.6260914 ],\n",
       "          [ 1.6260914 ],\n",
       "          [ 1.2691445 ],\n",
       "          ...,\n",
       "          [ 0.15864307],\n",
       "          [ 0.1189823 ],\n",
       "          [ 0.1189823 ]],\n",
       "\n",
       "         [[ 1.705413  ],\n",
       "          [ 1.705413  ],\n",
       "          [ 1.4674484 ],\n",
       "          ...,\n",
       "          [ 0.15864307],\n",
       "          [ 0.1189823 ],\n",
       "          [ 0.1189823 ]],\n",
       "\n",
       "         ...,\n",
       "\n",
       "         [[ 1.0708407 ],\n",
       "          [ 1.0708407 ],\n",
       "          [ 1.0708407 ],\n",
       "          ...,\n",
       "          [ 9.796209  ],\n",
       "          [ 9.796209  ],\n",
       "          [ 9.83587   ]],\n",
       "\n",
       "         [[ 1.0311799 ],\n",
       "          [ 1.0311799 ],\n",
       "          [ 1.0311799 ],\n",
       "          ...,\n",
       "          [ 9.796209  ],\n",
       "          [ 9.796209  ],\n",
       "          [ 9.796209  ]],\n",
       "\n",
       "         [[ 1.0311799 ],\n",
       "          [ 1.0311799 ],\n",
       "          [ 1.0311799 ],\n",
       "          ...,\n",
       "          [ 9.796209  ],\n",
       "          [ 9.796209  ],\n",
       "          [ 9.796209  ]]],\n",
       "\n",
       "\n",
       "        [[[ 1.6609201 ],\n",
       "          [ 1.6609201 ],\n",
       "          [ 1.3050086 ],\n",
       "          ...,\n",
       "          [ 0.11863715],\n",
       "          [ 0.07909144],\n",
       "          [ 0.07909144]],\n",
       "\n",
       "         [[ 1.6609201 ],\n",
       "          [ 1.6609201 ],\n",
       "          [ 1.3050086 ],\n",
       "          ...,\n",
       "          [ 0.11863715],\n",
       "          [ 0.07909144],\n",
       "          [ 0.07909144]],\n",
       "\n",
       "         [[ 1.6609201 ],\n",
       "          [ 1.6213745 ],\n",
       "          [ 1.4631916 ],\n",
       "          ...,\n",
       "          [ 0.11863715],\n",
       "          [ 0.07909144],\n",
       "          [ 0.07909144]],\n",
       "\n",
       "         ...,\n",
       "\n",
       "         [[ 1.1072801 ],\n",
       "          [ 1.1072801 ],\n",
       "          [ 1.1072801 ],\n",
       "          ...,\n",
       "          [ 9.807338  ],\n",
       "          [ 9.807338  ],\n",
       "          [ 9.846884  ]],\n",
       "\n",
       "         [[ 1.0281887 ],\n",
       "          [ 1.0281887 ],\n",
       "          [ 1.0281887 ],\n",
       "          ...,\n",
       "          [ 9.807338  ],\n",
       "          [ 9.807338  ],\n",
       "          [ 9.807338  ]],\n",
       "\n",
       "         [[ 1.0281887 ],\n",
       "          [ 1.0281887 ],\n",
       "          [ 1.0281887 ],\n",
       "          ...,\n",
       "          [ 9.807338  ],\n",
       "          [ 9.807338  ],\n",
       "          [ 9.807338  ]]],\n",
       "\n",
       "\n",
       "        [[[ 1.6971251 ],\n",
       "          [ 1.657657  ],\n",
       "          [ 1.3024448 ],\n",
       "          ...,\n",
       "          [ 0.11840408],\n",
       "          [ 0.07893605],\n",
       "          [ 0.07893605]],\n",
       "\n",
       "         [[ 1.657657  ],\n",
       "          [ 1.6181891 ],\n",
       "          [ 1.2629768 ],\n",
       "          ...,\n",
       "          [ 0.11840408],\n",
       "          [ 0.07893605],\n",
       "          [ 0.07893605]],\n",
       "\n",
       "         [[ 1.657657  ],\n",
       "          [ 1.6181891 ],\n",
       "          [ 1.3813809 ],\n",
       "          ...,\n",
       "          [ 0.07893605],\n",
       "          [ 0.03946802],\n",
       "          [ 0.03946802]],\n",
       "\n",
       "         ...,\n",
       "\n",
       "         [[ 1.0656366 ],\n",
       "          [ 1.0656366 ],\n",
       "          [ 1.0656366 ],\n",
       "          ...,\n",
       "          [ 9.748602  ],\n",
       "          [ 9.748602  ],\n",
       "          [ 9.748602  ]],\n",
       "\n",
       "         [[ 0.98670065],\n",
       "          [ 0.98670065],\n",
       "          [ 0.98670065],\n",
       "          ...,\n",
       "          [ 9.748602  ],\n",
       "          [ 9.748602  ],\n",
       "          [ 9.748602  ]],\n",
       "\n",
       "         [[ 0.98670065],\n",
       "          [ 0.98670065],\n",
       "          [ 0.98670065],\n",
       "          ...,\n",
       "          [ 9.748602  ],\n",
       "          [ 9.748602  ],\n",
       "          [ 9.748602  ]]]]], dtype=float32)"
      ]
     },
     "execution_count": 33,
     "metadata": {},
     "output_type": "execute_result"
    },
    {
     "name": "stdout",
     "output_type": "stream",
     "text": [
      "sgbc6n\n",
      "data\\alignments\\s1\\sgbc6n.align\n"
     ]
    }
   ],
   "source": [
    "value = test.next(); value[0]"
   ]
  },
  {
   "cell_type": "code",
   "execution_count": 34,
   "id": "53ae9cad",
   "metadata": {},
   "outputs": [],
   "source": [
    "#creates an video.gif file which shows what the model will see and train off\n",
    "#imageio.mimsave('./video.gif', value[0][1], fps=8)"
   ]
  },
  {
   "cell_type": "code",
   "execution_count": 35,
   "id": "429f7ba9",
   "metadata": {},
   "outputs": [
    {
     "data": {
      "text/plain": [
       "<matplotlib.image.AxesImage at 0x2023bb037f0>"
      ]
     },
     "execution_count": 35,
     "metadata": {},
     "output_type": "execute_result"
    },
    {
     "data": {
      "image/png": "[encoded data removed]",
      "text/plain": [
       "<Figure size 432x288 with 1 Axes>"
      ]
     },
     "metadata": {
      "needs_background": "light"
     },
     "output_type": "display_data"
    }
   ],
   "source": [
    "# 0: give me videos, 1: give second video of the batch, 2: return frame 3 of video (75 frames total)\n",
    "plt.imshow(value[0][1][2])"
   ]
  },
  {
   "cell_type": "code",
   "execution_count": 36,
   "id": "73e7e2dc",
   "metadata": {},
   "outputs": [
    {
     "data": {
      "text/plain": [
       "<tf.Tensor: shape=(), dtype=string, numpy=b'lay'>"
      ]
     },
     "execution_count": 36,
     "metadata": {},
     "output_type": "execute_result"
    }
   ],
   "source": [
    "tf.strings.reduce_join([num_to_char(word) for word in value[1][0]])"
   ]
  },
  {
   "cell_type": "markdown",
   "id": "8cf2bef4",
   "metadata": {},
   "source": [
    "# 3 Designing the Deep Neural Network\n"
   ]
  },
  {
   "cell_type": "code",
   "execution_count": 37,
   "id": "d0b52a0c",
   "metadata": {},
   "outputs": [],
   "source": [
    "#importing model, layers, optimizers and callbacks\n",
    "#https://github.com/asmith26/my_keras_doc/blob/master/docs/templates/getting-started/sequential-model-guide.md\n",
    "#https://github.com/christianversloot/machine-learning-articles/blob/main/a-simple-conv3d-example-with-keras.md\n",
    "#chatgpt bijlage\n",
    "#https://arxiv.org/abs/1611.01599\n",
    "from tensorflow.keras.models import Sequential\n",
    "from tensorflow.keras.layers import MaxPool3D, BatchNormalization, Activation, Reshape, Conv3D, LSTM, Dense, Dropout, SpatialDropout3D, TimeDistributed, BatchNormalization,  Flatten\n",
    "from tensorflow.keras.optimizers import Adam\n",
    "from tensorflow.keras.callbacks import LearningRateScheduler, ModelCheckpoint, Callback\n",
    "#Layer explanation\n",
    "# Conv3D, highlights important information like edges or patterns, will be run twice with different amount of layers\n",
    "# MaxPool3D, Picks out the most important information from the frames, will be run twice with different amount of layers\n",
    "# Timedistributed and Flatten, arranges frames into a neat sequence, turns multidimensional input into 1 dimensional input\n",
    "# Dropout, sometimes forgets certain parts of data to make sure model doesnt hyperfixate on specific details\n",
    "# LSTM, long-short-term-memory, remembers important stuff, forgets the rest\n",
    "# Batchnormalization, helps stabilize and accelerate training by normalizing the inputs to a layer\n",
    "# Dense, allows communication between the neurons of the neural network\n"
   ]
  },
  {
   "cell_type": "code",
   "execution_count": 38,
   "id": "cf96b1df",
   "metadata": {},
   "outputs": [
    {
     "name": "stdout",
     "output_type": "stream",
     "text": [
      "pwixzn\n",
      "data\\alignments\\s1\\pwixzn.align\n",
      "bwbt8p\n",
      "data\\alignments\\s1\\bwbt8p.align\n",
      "bwat4p\n",
      "data\\alignments\\s1\\bwat4p.align\n",
      "lgas3s\n",
      "data\\alignments\\s1\\lgas3s.align\n"
     ]
    },
    {
     "data": {
      "text/plain": [
       "(75, 56, 160, 1)"
      ]
     },
     "execution_count": 38,
     "metadata": {},
     "output_type": "execute_result"
    }
   ],
   "source": [
    "# getting the shape to use as input for the Conv3D Layers\n",
    "data.as_numpy_iterator().next()[0][0].shape"
   ]
  },
  {
   "cell_type": "code",
   "execution_count": 39,
   "id": "668ee20e",
   "metadata": {},
   "outputs": [],
   "source": [
    "sample_shape = (75, 56, 160, 1)"
   ]
  },
  {
   "cell_type": "code",
   "execution_count": 40,
   "id": "e367f2b1",
   "metadata": {},
   "outputs": [],
   "source": [
    "# 3D CNN model with a convolutional layer, followed by a 3D max pooling layer.\n",
    "model = Sequential()\n",
    "model.add(Conv3D(128, kernel_size=(3, 3, 3), activation='relu', kernel_initializer='he_uniform', input_shape=sample_shape, padding='same'))\n",
    "model.add(MaxPool3D((1, 2, 2)))\n",
    "\n",
    "# another Conv3D layer with 256 filters, followed by another 3D max pooling layer.\n",
    "model.add(Conv3D(256, 3, activation='relu', kernel_initializer='he_uniform', padding='same'))\n",
    "model.add(MaxPool3D((1, 2, 2)))\n",
    "\n",
    "# Applies TimeDistributed layer to flatten the output of the previous layer along the temporal dimension.\n",
    "model.add(TimeDistributed(Flatten()))\n",
    "\n",
    "# LSTM layers with dropout and batchnormalization\n",
    "model.add(LSTM(128, kernel_initializer='Orthogonal', return_sequences=True))\n",
    "model.add(BatchNormalization())\n",
    "model.add(Activation('relu'))\n",
    "model.add(Dropout(0.5))\n",
    "\n",
    "model.add(LSTM(128, kernel_initializer='Orthogonal', return_sequences=True))\n",
    "model.add(BatchNormalization())\n",
    "model.add(Activation('relu'))\n",
    "model.add(Dropout(0.5))\n",
    "\n",
    "# Dense (fully connected) layer with a number of units equal to the vocabulary size plus one (for an additional class)\n",
    "model.add(Dense(char_to_num.vocabulary_size()+1, kernel_initializer='he_normal', activation='softmax'))\n"
   ]
  },
  {
   "cell_type": "code",
   "execution_count": 41,
   "id": "125b8b50",
   "metadata": {},
   "outputs": [
    {
     "name": "stdout",
     "output_type": "stream",
     "text": [
      "Model: \"sequential\"\n",
      "_________________________________________________________________\n",
      " Layer (type)                Output Shape              Param #   \n",
      "=================================================================\n",
      " conv3d (Conv3D)             (None, 75, 56, 160, 128)  3584      \n",
      "                                                                 \n",
      " max_pooling3d (MaxPooling3D  (None, 75, 28, 80, 128)  0         \n",
      " )                                                               \n",
      "                                                                 \n",
      " conv3d_1 (Conv3D)           (None, 75, 28, 80, 256)   884992    \n",
      "                                                                 \n",
      " max_pooling3d_1 (MaxPooling  (None, 75, 14, 40, 256)  0         \n",
      " 3D)                                                             \n",
      "                                                                 \n",
      " time_distributed (TimeDistr  (None, 75, 143360)       0         \n",
      " ibuted)                                                         \n",
      "                                                                 \n",
      " lstm (LSTM)                 (None, 75, 128)           73466368  \n",
      "                                                                 \n",
      " batch_normalization (BatchN  (None, 75, 128)          512       \n",
      " ormalization)                                                   \n",
      "                                                                 \n",
      " activation (Activation)     (None, 75, 128)           0         \n",
      "                                                                 \n",
      " dropout (Dropout)           (None, 75, 128)           0         \n",
      "                                                                 \n",
      " lstm_1 (LSTM)               (None, 75, 128)           131584    \n",
      "                                                                 \n",
      " batch_normalization_1 (Batc  (None, 75, 128)          512       \n",
      " hNormalization)                                                 \n",
      "                                                                 \n",
      " activation_1 (Activation)   (None, 75, 128)           0         \n",
      "                                                                 \n",
      " dropout_1 (Dropout)         (None, 75, 128)           0         \n",
      "                                                                 \n",
      " dense (Dense)               (None, 75, 41)            5289      \n",
      "                                                                 \n",
      "=================================================================\n",
      "Total params: 74,492,841\n",
      "Trainable params: 74,492,329\n",
      "Non-trainable params: 512\n",
      "_________________________________________________________________\n"
     ]
    }
   ],
   "source": [
    "model.summary()"
   ]
  },
  {
   "cell_type": "code",
   "execution_count": 42,
   "id": "f8f73527",
   "metadata": {},
   "outputs": [
    {
     "name": "stdout",
     "output_type": "stream",
     "text": [
      "1/1 [==============================] - 5s 5s/step\n"
     ]
    }
   ],
   "source": [
    "# Making predictions using the trained model on input data 'value[0]'. 'yhat' contains the model's predicted probabilities for different classes.\n",
    "yhat = model.predict(value[0])"
   ]
  },
  {
   "cell_type": "code",
   "execution_count": 43,
   "id": "c815e629",
   "metadata": {},
   "outputs": [
    {
     "data": {
      "text/plain": [
       "(None, 75, 56, 160, 1)"
      ]
     },
     "execution_count": 43,
     "metadata": {},
     "output_type": "execute_result"
    }
   ],
   "source": [
    "model.input_shape"
   ]
  },
  {
   "cell_type": "code",
   "execution_count": 44,
   "id": "605a470a",
   "metadata": {},
   "outputs": [
    {
     "data": {
      "text/plain": [
       "(None, 75, 41)"
      ]
     },
     "execution_count": 44,
     "metadata": {},
     "output_type": "execute_result"
    }
   ],
   "source": [
    "model.output_shape"
   ]
  },
  {
   "cell_type": "code",
   "execution_count": 45,
   "id": "528cd648",
   "metadata": {},
   "outputs": [
    {
     "data": {
      "text/plain": [
       "<tf.Tensor: shape=(), dtype=string, numpy=b'nnnnnnnnnnnnnnnnnnnnnnnnnnnnnnnnnnoonnnnnnnyyvnnnnnnnnvnnnnnnnnnnnvvvvvnnnv'>"
      ]
     },
     "execution_count": 45,
     "metadata": {},
     "output_type": "execute_result"
    }
   ],
   "source": [
    "tf.strings.reduce_join([num_to_char(tf.argmax(x)) for x in yhat[1]])"
   ]
  },
  {
   "cell_type": "code",
   "execution_count": 46,
   "id": "54ba09ec",
   "metadata": {},
   "outputs": [
    {
     "data": {
      "text/plain": [
       "(75, 41)"
      ]
     },
     "execution_count": 46,
     "metadata": {},
     "output_type": "execute_result"
    }
   ],
   "source": [
    "yhat[0].shape"
   ]
  },
  {
   "cell_type": "markdown",
   "id": "4a2ae3c4",
   "metadata": {},
   "source": [
    "# 4 training setup options and training\n"
   ]
  },
  {
   "cell_type": "code",
   "execution_count": 47,
   "id": "4d5e5bbb",
   "metadata": {},
   "outputs": [],
   "source": [
    "from tensorflow.keras.optimizers.schedules import ExponentialDecay"
   ]
  },
  {
   "cell_type": "code",
   "execution_count": 48,
   "id": "04b34a8f",
   "metadata": {},
   "outputs": [],
   "source": [
    "#custom schedule function, after epoch 20 exponentially decreases the learning rate\n",
    "def scheduler(epoch, lr):\n",
    "    if epoch < 20:\n",
    "        return lr\n",
    "    else:\n",
    "        return lr * tf.math.exp(-0.09)"
   ]
  },
  {
   "cell_type": "code",
   "execution_count": 49,
   "id": "9ec31955",
   "metadata": {},
   "outputs": [],
   "source": [
    "#https://keras.io/examples/audio/ctc_asr/#model\n",
    "#using CTCloss to reduce the need for 1 to 1 alignment, even though our current dataset is aligned, its necesarry if used on non aligned data.\n",
    "def CTCLoss(y_true, y_pred):\n",
    "    batch_len = tf.shape(y_true)[0]\n",
    "    input_length = tf.shape(y_pred)[1]\n",
    "    label_length = tf.shape(y_true)[1]\n",
    "\n",
    "    input_length = tf.fill((batch_len, 1), input_length)\n",
    "    label_length = tf.fill((batch_len, 1), label_length)\n",
    "\n",
    "    loss = tf.keras.backend.ctc_batch_cost(y_true, y_pred, input_length, label_length)\n",
    "    return loss"
   ]
  },
  {
   "cell_type": "code",
   "execution_count": 50,
   "id": "3004e28b",
   "metadata": {},
   "outputs": [],
   "source": [
    "#creating a calculate_ser and wer function, as additional metrics to eveluate performance.\n",
    "def calculate_ser(y_true, y_pred):\n",
    "    # Assuming y_true and y_pred are sequences of symbols (e.g., characters or words)\n",
    "    errors = sum(1 for true, pred in zip(y_true, y_pred) if true != pred)\n",
    "    total_symbols = len(y_true)\n",
    "    ser = errors / total_symbols\n",
    "    return ser\n",
    "\n",
    "def calculate_wer(y_true, y_pred):\n",
    "    # Assuming y_true and y_pred are sequences of words\n",
    "    true_words = set(y_true.split())\n",
    "    pred_words = set(y_pred.split())\n",
    "    \n",
    "    common_words = true_words.intersection(pred_words)\n",
    "    total_words = len(true_words) + len(pred_words) - len(common_words)\n",
    "    \n",
    "    wer = (total_words - len(common_words)) / total_words\n",
    "    return wer"
   ]
  },
  {
   "cell_type": "code",
   "execution_count": 51,
   "id": "005f917a",
   "metadata": {},
   "outputs": [],
   "source": [
    "#prints original and predicted sequences, using a CTC-decoded representation, for each example in the dataset at the end of each training epoch.\n",
    "class ProduceExample(tf.keras.callbacks.Callback): \n",
    "    def __init__(self, dataset) -> None: \n",
    "        self.dataset = data.as_numpy_iterator()\n",
    "    \n",
    "    def on_epoch_end(self, epoch, logs=None) -> None:\n",
    "        data = self.dataset.next()\n",
    "        yhat = self.model.predict(data[0])\n",
    "        decoded = tf.keras.backend.ctc_decode(yhat, [75, 75], greedy=False)[0][0].numpy()\n",
    "        for example_idx in range(len(yhat)):           \n",
    "            original_sequence = tf.strings.reduce_join(num_to_char(data[1][example_idx])).numpy().decode('utf-8')\n",
    "            predicted_sequence = tf.strings.reduce_join(num_to_char(decoded[example_idx])).numpy().decode('utf-8')\n",
    "\n",
    "            print('Original:', original_sequence)\n",
    "            print('Prediction:', predicted_sequence)\n",
    "            print('~' * 100)"
   ]
  },
  {
   "cell_type": "code",
   "execution_count": 52,
   "id": "86f4d8ad",
   "metadata": {},
   "outputs": [],
   "source": [
    "model.compile(optimizer=Adam(learning_rate=0.0001),\n",
    "              loss=CTCLoss)"
   ]
  },
  {
   "cell_type": "code",
   "execution_count": 53,
   "id": "c1e43d03",
   "metadata": {},
   "outputs": [],
   "source": [
    "#callback saves the model's weights to the specified directory when training, \n",
    "#based on the optimization of the monitored loss metric, and only saves the weights if they improve\n",
    "checkpoint_callback = ModelCheckpoint(\n",
    "    r'C:\\Users\\stefd\\notebook projects\\models\\checkpoints',\n",
    "    monitor='loss',\n",
    "    save_best_only=True,\n",
    "    save_weights_only=True\n",
    ")"
   ]
  },
  {
   "cell_type": "code",
   "execution_count": 54,
   "id": "0561e606",
   "metadata": {},
   "outputs": [],
   "source": [
    "schedule_callback = LearningRateScheduler(scheduler)"
   ]
  },
  {
   "cell_type": "code",
   "execution_count": 55,
   "id": "088968ed",
   "metadata": {},
   "outputs": [],
   "source": [
    "example_callback = ProduceExample(test)"
   ]
  },
  {
   "cell_type": "code",
   "execution_count": 56,
   "id": "0ad84a73",
   "metadata": {},
   "outputs": [],
   "source": [
    "#model.fit(train, validation_data=test, epochs=55, callbacks=[checkpoint_callback, schedule_callback, example_callback])"
   ]
  },
  {
   "cell_type": "markdown",
   "id": "7baebd3e",
   "metadata": {},
   "source": [
    "# 5 making a prediction"
   ]
  },
  {
   "cell_type": "markdown",
   "id": "dba91866",
   "metadata": {},
   "source": [
    "# 6 testing the model on the data"
   ]
  },
  {
   "cell_type": "code",
   "execution_count": null,
   "id": "c9946fbf",
   "metadata": {},
   "outputs": [],
   "source": []
  }
 ],
 "metadata": {
  "kernelspec": {
   "display_name": "Python 3 (ipykernel)",
   "language": "python",
   "name": "python3"
  },
  "language_info": {
   "codemirror_mode": {
    "name": "ipython",
    "version": 3
   },
   "file_extension": ".py",
   "mimetype": "text/x-python",
   "name": "python",
   "nbconvert_exporter": "python",
   "pygments_lexer": "ipython3",
   "version": "3.9.7"
  }
 },
 "nbformat": 4,
 "nbformat_minor": 5
}
